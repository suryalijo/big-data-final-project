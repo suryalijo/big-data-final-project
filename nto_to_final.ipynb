{
 "cells": [
  {
   "cell_type": "code",
   "execution_count": 1,
   "id": "4cd3793d",
   "metadata": {},
   "outputs": [],
   "source": [
    "# Importing the Packages\n",
    "import pandas as pd\n",
    "import sweetviz as sv\n",
    "import warnings\n",
    "warnings.filterwarnings(\"ignore\")\n",
    "import numpy as np\n",
    "import datetime\n",
    "import seaborn as sns\n",
    "import matplotlib.pyplot as plt\n",
    "%matplotlib inline"
   ]
  },
  {
   "cell_type": "code",
   "execution_count": 2,
   "id": "25c2c571",
   "metadata": {},
   "outputs": [],
   "source": [
    "# Reading Not The Onion CSV File\n",
    "df = pd.read_csv(\"/Users/suryalijo/Desktop/AMOD_Project/nto_to_final.csv\")"
   ]
  },
  {
   "cell_type": "code",
   "execution_count": 3,
   "id": "1d88190d",
   "metadata": {},
   "outputs": [
    {
     "name": "stdout",
     "output_type": "stream",
     "text": [
      "\n",
      " (31206, 8)\n"
     ]
    },
    {
     "data": {
      "text/html": [
       "<div>\n",
       "<style scoped>\n",
       "    .dataframe tbody tr th:only-of-type {\n",
       "        vertical-align: middle;\n",
       "    }\n",
       "\n",
       "    .dataframe tbody tr th {\n",
       "        vertical-align: top;\n",
       "    }\n",
       "\n",
       "    .dataframe thead th {\n",
       "        text-align: right;\n",
       "    }\n",
       "</style>\n",
       "<table border=\"1\" class=\"dataframe\">\n",
       "  <thead>\n",
       "    <tr style=\"text-align: right;\">\n",
       "      <th></th>\n",
       "      <th>label</th>\n",
       "      <th>author</th>\n",
       "      <th>created_utc</th>\n",
       "      <th>num_comments</th>\n",
       "      <th>score</th>\n",
       "      <th>title</th>\n",
       "      <th>url</th>\n",
       "      <th>post_body</th>\n",
       "    </tr>\n",
       "  </thead>\n",
       "  <tbody>\n",
       "    <tr>\n",
       "      <th>0</th>\n",
       "      <td>1</td>\n",
       "      <td>kremor</td>\n",
       "      <td>1645405066</td>\n",
       "      <td>0</td>\n",
       "      <td>1</td>\n",
       "      <td>Parents Forced To Explain Thrill Of Having Sex...</td>\n",
       "      <td>https://www.theonion.com/parents-forced-to-exp...</td>\n",
       "      <td>SAN DIEGOâ€”Instructing their confused 4-year-...</td>\n",
       "    </tr>\n",
       "    <tr>\n",
       "      <th>1</th>\n",
       "      <td>1</td>\n",
       "      <td>El_Zarco</td>\n",
       "      <td>1645281895</td>\n",
       "      <td>0</td>\n",
       "      <td>1</td>\n",
       "      <td>Posh Restaurant Has Cucumber Slices Floating I...</td>\n",
       "      <td>https://www.theonion.com/posh-restaurant-has-c...</td>\n",
       "      <td>NaN</td>\n",
       "    </tr>\n",
       "    <tr>\n",
       "      <th>2</th>\n",
       "      <td>1</td>\n",
       "      <td>Sanlear</td>\n",
       "      <td>1645268793</td>\n",
       "      <td>0</td>\n",
       "      <td>1</td>\n",
       "      <td>Painted Rocksnail Knows It Really Fucked If An...</td>\n",
       "      <td>https://www.theonion.com/painted-rocksnail-kno...</td>\n",
       "      <td>WOLF CREEK, ALâ€”Reacting with dismay to news ...</td>\n",
       "    </tr>\n",
       "    <tr>\n",
       "      <th>3</th>\n",
       "      <td>1</td>\n",
       "      <td>Additional_Barber_30</td>\n",
       "      <td>1645212992</td>\n",
       "      <td>1</td>\n",
       "      <td>1</td>\n",
       "      <td>Why has The Onion gotten so much worse recenâ€”</td>\n",
       "      <td>https://i.redd.it/vslffdyd9ni81.jpg</td>\n",
       "      <td>NaN</td>\n",
       "    </tr>\n",
       "    <tr>\n",
       "      <th>4</th>\n",
       "      <td>1</td>\n",
       "      <td>heavyLobster</td>\n",
       "      <td>1645146992</td>\n",
       "      <td>0</td>\n",
       "      <td>1</td>\n",
       "      <td>Boarâ€™s Head Unveils New Funfetti Birthday Ham</td>\n",
       "      <td>https://www.theonion.com/boar-s-head-unveils-n...</td>\n",
       "      <td>SARASOTA, FLâ€”In a statement that confirmed c...</td>\n",
       "    </tr>\n",
       "  </tbody>\n",
       "</table>\n",
       "</div>"
      ],
      "text/plain": [
       "   label                author created_utc num_comments score  \\\n",
       "0      1                kremor  1645405066            0     1   \n",
       "1      1              El_Zarco  1645281895            0     1   \n",
       "2      1               Sanlear  1645268793            0     1   \n",
       "3      1  Additional_Barber_30  1645212992            1     1   \n",
       "4      1          heavyLobster  1645146992            0     1   \n",
       "\n",
       "                                               title  \\\n",
       "0  Parents Forced To Explain Thrill Of Having Sex...   \n",
       "1  Posh Restaurant Has Cucumber Slices Floating I...   \n",
       "2  Painted Rocksnail Knows It Really Fucked If An...   \n",
       "3    Why has The Onion gotten so much worse recenâ€”   \n",
       "4    Boarâ€™s Head Unveils New Funfetti Birthday Ham   \n",
       "\n",
       "                                                 url  \\\n",
       "0  https://www.theonion.com/parents-forced-to-exp...   \n",
       "1  https://www.theonion.com/posh-restaurant-has-c...   \n",
       "2  https://www.theonion.com/painted-rocksnail-kno...   \n",
       "3                https://i.redd.it/vslffdyd9ni81.jpg   \n",
       "4  https://www.theonion.com/boar-s-head-unveils-n...   \n",
       "\n",
       "                                           post_body  \n",
       "0  SAN DIEGOâ€”Instructing their confused 4-year-...  \n",
       "1                                                NaN  \n",
       "2  WOLF CREEK, ALâ€”Reacting with dismay to news ...  \n",
       "3                                                NaN  \n",
       "4  SARASOTA, FLâ€”In a statement that confirmed c...  "
      ]
     },
     "execution_count": 3,
     "metadata": {},
     "output_type": "execute_result"
    }
   ],
   "source": [
    "#Printing shape and first 5 rows of the Dataset\n",
    "\n",
    "print(\"\\n\", df.shape)\n",
    "\n",
    "df.head()"
   ]
  },
  {
   "cell_type": "code",
   "execution_count": 4,
   "id": "42a75ef5",
   "metadata": {},
   "outputs": [
    {
     "data": {
      "text/html": [
       "<div>\n",
       "<style scoped>\n",
       "    .dataframe tbody tr th:only-of-type {\n",
       "        vertical-align: middle;\n",
       "    }\n",
       "\n",
       "    .dataframe tbody tr th {\n",
       "        vertical-align: top;\n",
       "    }\n",
       "\n",
       "    .dataframe thead th {\n",
       "        text-align: right;\n",
       "    }\n",
       "</style>\n",
       "<table border=\"1\" class=\"dataframe\">\n",
       "  <thead>\n",
       "    <tr style=\"text-align: right;\">\n",
       "      <th></th>\n",
       "      <th>title</th>\n",
       "      <th>post_body</th>\n",
       "      <th>author</th>\n",
       "      <th>num_comments</th>\n",
       "      <th>score</th>\n",
       "      <th>url</th>\n",
       "      <th>created_utc</th>\n",
       "      <th>label</th>\n",
       "    </tr>\n",
       "  </thead>\n",
       "  <tbody>\n",
       "    <tr>\n",
       "      <th>0</th>\n",
       "      <td>Parents Forced To Explain Thrill Of Having Sex...</td>\n",
       "      <td>SAN DIEGOâ€”Instructing their confused 4-year-...</td>\n",
       "      <td>kremor</td>\n",
       "      <td>0</td>\n",
       "      <td>1</td>\n",
       "      <td>https://www.theonion.com/parents-forced-to-exp...</td>\n",
       "      <td>1645405066</td>\n",
       "      <td>1</td>\n",
       "    </tr>\n",
       "    <tr>\n",
       "      <th>1</th>\n",
       "      <td>Posh Restaurant Has Cucumber Slices Floating I...</td>\n",
       "      <td>NaN</td>\n",
       "      <td>El_Zarco</td>\n",
       "      <td>0</td>\n",
       "      <td>1</td>\n",
       "      <td>https://www.theonion.com/posh-restaurant-has-c...</td>\n",
       "      <td>1645281895</td>\n",
       "      <td>1</td>\n",
       "    </tr>\n",
       "    <tr>\n",
       "      <th>2</th>\n",
       "      <td>Painted Rocksnail Knows It Really Fucked If An...</td>\n",
       "      <td>WOLF CREEK, ALâ€”Reacting with dismay to news ...</td>\n",
       "      <td>Sanlear</td>\n",
       "      <td>0</td>\n",
       "      <td>1</td>\n",
       "      <td>https://www.theonion.com/painted-rocksnail-kno...</td>\n",
       "      <td>1645268793</td>\n",
       "      <td>1</td>\n",
       "    </tr>\n",
       "    <tr>\n",
       "      <th>3</th>\n",
       "      <td>Why has The Onion gotten so much worse recenâ€”</td>\n",
       "      <td>NaN</td>\n",
       "      <td>Additional_Barber_30</td>\n",
       "      <td>1</td>\n",
       "      <td>1</td>\n",
       "      <td>https://i.redd.it/vslffdyd9ni81.jpg</td>\n",
       "      <td>1645212992</td>\n",
       "      <td>1</td>\n",
       "    </tr>\n",
       "    <tr>\n",
       "      <th>4</th>\n",
       "      <td>Boarâ€™s Head Unveils New Funfetti Birthday Ham</td>\n",
       "      <td>SARASOTA, FLâ€”In a statement that confirmed c...</td>\n",
       "      <td>heavyLobster</td>\n",
       "      <td>0</td>\n",
       "      <td>1</td>\n",
       "      <td>https://www.theonion.com/boar-s-head-unveils-n...</td>\n",
       "      <td>1645146992</td>\n",
       "      <td>1</td>\n",
       "    </tr>\n",
       "    <tr>\n",
       "      <th>...</th>\n",
       "      <td>...</td>\n",
       "      <td>...</td>\n",
       "      <td>...</td>\n",
       "      <td>...</td>\n",
       "      <td>...</td>\n",
       "      <td>...</td>\n",
       "      <td>...</td>\n",
       "      <td>...</td>\n",
       "    </tr>\n",
       "    <tr>\n",
       "      <th>31201</th>\n",
       "      <td>â€˜Duneâ€™ Star Stellan Skarsgard Wanted More ...</td>\n",
       "      <td>Stellan SkarsgÃ¥rd in â€œDuneâ€ (Warner Bros....</td>\n",
       "      <td>Antishill_Artillery</td>\n",
       "      <td>2</td>\n",
       "      <td>1</td>\n",
       "      <td>https://www.google.com/amp/s/www.thewrap.com/d...</td>\n",
       "      <td>1635402386</td>\n",
       "      <td>0</td>\n",
       "    </tr>\n",
       "    <tr>\n",
       "      <th>31202</th>\n",
       "      <td>Beyond tasteless</td>\n",
       "      <td>Donald Trump Jr. is selling T-shirts on his we...</td>\n",
       "      <td>citizen-of-the-earth</td>\n",
       "      <td>2</td>\n",
       "      <td>1</td>\n",
       "      <td>https://thehill.com/blogs/in-the-know/in-the-k...</td>\n",
       "      <td>1635402239</td>\n",
       "      <td>0</td>\n",
       "    </tr>\n",
       "    <tr>\n",
       "      <th>31203</th>\n",
       "      <td>Beyond tasteless</td>\n",
       "      <td>Donald Trump Jr. has begun selling merchandise...</td>\n",
       "      <td>citizen-of-the-earth</td>\n",
       "      <td>2</td>\n",
       "      <td>1</td>\n",
       "      <td>https://www.newsweek.com/donald-trump-jr-selli...</td>\n",
       "      <td>1635402069</td>\n",
       "      <td>0</td>\n",
       "    </tr>\n",
       "    <tr>\n",
       "      <th>31204</th>\n",
       "      <td>Beyond tasteless</td>\n",
       "      <td>Donald Trump Jr has begun selling merchandise ...</td>\n",
       "      <td>citizen-of-the-earth</td>\n",
       "      <td>2</td>\n",
       "      <td>1</td>\n",
       "      <td>https://www.independent.co.uk/news/world/ameri...</td>\n",
       "      <td>1635401956</td>\n",
       "      <td>0</td>\n",
       "    </tr>\n",
       "    <tr>\n",
       "      <th>31205</th>\n",
       "      <td>Beyond tasteless</td>\n",
       "      <td>Last week, a horrifying tragedy occurred on th...</td>\n",
       "      <td>citizen-of-the-earth</td>\n",
       "      <td>2</td>\n",
       "      <td>1</td>\n",
       "      <td>https://www.vanityfair.com/news/2021/10/donald...</td>\n",
       "      <td>1635401675</td>\n",
       "      <td>0</td>\n",
       "    </tr>\n",
       "  </tbody>\n",
       "</table>\n",
       "<p>31206 rows × 8 columns</p>\n",
       "</div>"
      ],
      "text/plain": [
       "                                                   title  \\\n",
       "0      Parents Forced To Explain Thrill Of Having Sex...   \n",
       "1      Posh Restaurant Has Cucumber Slices Floating I...   \n",
       "2      Painted Rocksnail Knows It Really Fucked If An...   \n",
       "3        Why has The Onion gotten so much worse recenâ€”   \n",
       "4        Boarâ€™s Head Unveils New Funfetti Birthday Ham   \n",
       "...                                                  ...   \n",
       "31201  â€˜Duneâ€™ Star Stellan Skarsgard Wanted More ...   \n",
       "31202                                   Beyond tasteless   \n",
       "31203                                   Beyond tasteless   \n",
       "31204                                   Beyond tasteless   \n",
       "31205                                   Beyond tasteless   \n",
       "\n",
       "                                               post_body  \\\n",
       "0      SAN DIEGOâ€”Instructing their confused 4-year-...   \n",
       "1                                                    NaN   \n",
       "2      WOLF CREEK, ALâ€”Reacting with dismay to news ...   \n",
       "3                                                    NaN   \n",
       "4      SARASOTA, FLâ€”In a statement that confirmed c...   \n",
       "...                                                  ...   \n",
       "31201  Stellan SkarsgÃ¥rd in â€œDuneâ€ (Warner Bros....   \n",
       "31202  Donald Trump Jr. is selling T-shirts on his we...   \n",
       "31203  Donald Trump Jr. has begun selling merchandise...   \n",
       "31204  Donald Trump Jr has begun selling merchandise ...   \n",
       "31205  Last week, a horrifying tragedy occurred on th...   \n",
       "\n",
       "                     author num_comments score  \\\n",
       "0                    kremor            0     1   \n",
       "1                  El_Zarco            0     1   \n",
       "2                   Sanlear            0     1   \n",
       "3      Additional_Barber_30            1     1   \n",
       "4              heavyLobster            0     1   \n",
       "...                     ...          ...   ...   \n",
       "31201   Antishill_Artillery            2     1   \n",
       "31202  citizen-of-the-earth            2     1   \n",
       "31203  citizen-of-the-earth            2     1   \n",
       "31204  citizen-of-the-earth            2     1   \n",
       "31205  citizen-of-the-earth            2     1   \n",
       "\n",
       "                                                     url created_utc  label  \n",
       "0      https://www.theonion.com/parents-forced-to-exp...  1645405066      1  \n",
       "1      https://www.theonion.com/posh-restaurant-has-c...  1645281895      1  \n",
       "2      https://www.theonion.com/painted-rocksnail-kno...  1645268793      1  \n",
       "3                    https://i.redd.it/vslffdyd9ni81.jpg  1645212992      1  \n",
       "4      https://www.theonion.com/boar-s-head-unveils-n...  1645146992      1  \n",
       "...                                                  ...         ...    ...  \n",
       "31201  https://www.google.com/amp/s/www.thewrap.com/d...  1635402386      0  \n",
       "31202  https://thehill.com/blogs/in-the-know/in-the-k...  1635402239      0  \n",
       "31203  https://www.newsweek.com/donald-trump-jr-selli...  1635402069      0  \n",
       "31204  https://www.independent.co.uk/news/world/ameri...  1635401956      0  \n",
       "31205  https://www.vanityfair.com/news/2021/10/donald...  1635401675      0  \n",
       "\n",
       "[31206 rows x 8 columns]"
      ]
     },
     "execution_count": 4,
     "metadata": {},
     "output_type": "execute_result"
    }
   ],
   "source": [
    "# Rearranging the columns\n",
    "\n",
    "df = df[['title','post_body','author','num_comments','score','url','created_utc','label']]\n",
    "\n",
    "df"
   ]
  },
  {
   "cell_type": "code",
   "execution_count": 5,
   "id": "657fe821",
   "metadata": {},
   "outputs": [
    {
     "data": {
      "text/plain": [
       "title           False\n",
       "post_body        True\n",
       "author          False\n",
       "num_comments    False\n",
       "score           False\n",
       "url             False\n",
       "created_utc     False\n",
       "label           False\n",
       "dtype: bool"
      ]
     },
     "execution_count": 5,
     "metadata": {},
     "output_type": "execute_result"
    }
   ],
   "source": [
    "# Checking for Null values\n",
    "df.isna().any()"
   ]
  },
  {
   "cell_type": "code",
   "execution_count": 6,
   "id": "ba0d1af4",
   "metadata": {},
   "outputs": [
    {
     "data": {
      "text/plain": [
       "title              0\n",
       "post_body       2775\n",
       "author             0\n",
       "num_comments       0\n",
       "score              0\n",
       "url                0\n",
       "created_utc        0\n",
       "label              0\n",
       "dtype: int64"
      ]
     },
     "execution_count": 6,
     "metadata": {},
     "output_type": "execute_result"
    }
   ],
   "source": [
    "# Check for null values\n",
    "df.isna().sum()"
   ]
  },
  {
   "cell_type": "code",
   "execution_count": 7,
   "id": "e164c943",
   "metadata": {},
   "outputs": [
    {
     "name": "stdout",
     "output_type": "stream",
     "text": [
      "<class 'pandas.core.frame.DataFrame'>\n",
      "RangeIndex: 31206 entries, 0 to 31205\n",
      "Data columns (total 8 columns):\n",
      " #   Column        Non-Null Count  Dtype \n",
      "---  ------        --------------  ----- \n",
      " 0   title         31206 non-null  object\n",
      " 1   post_body     28431 non-null  object\n",
      " 2   author        31206 non-null  object\n",
      " 3   num_comments  31206 non-null  object\n",
      " 4   score         31206 non-null  object\n",
      " 5   url           31206 non-null  object\n",
      " 6   created_utc   31206 non-null  object\n",
      " 7   label         31206 non-null  int64 \n",
      "dtypes: int64(1), object(7)\n",
      "memory usage: 1.9+ MB\n"
     ]
    }
   ],
   "source": [
    "# Printing summary of the dataset\n",
    "\n",
    "df.info()"
   ]
  },
  {
   "cell_type": "code",
   "execution_count": 8,
   "id": "a5125f7f",
   "metadata": {},
   "outputs": [
    {
     "data": {
      "text/plain": [
       "title           25849\n",
       "post_body       21839\n",
       "author          10757\n",
       "num_comments      387\n",
       "score             847\n",
       "url             27363\n",
       "created_utc     30939\n",
       "label               2\n",
       "dtype: int64"
      ]
     },
     "execution_count": 8,
     "metadata": {},
     "output_type": "execute_result"
    }
   ],
   "source": [
    "# Printing number of unique values each column has \n",
    "\n",
    "df.nunique(dropna = True)"
   ]
  },
  {
   "cell_type": "code",
   "execution_count": 9,
   "id": "5062a1eb",
   "metadata": {},
   "outputs": [],
   "source": [
    "#Dropping URL column\n",
    "\n",
    "df_data = df.drop(columns = ['url'])"
   ]
  },
  {
   "cell_type": "code",
   "execution_count": null,
   "id": "0c75fd7b",
   "metadata": {},
   "outputs": [],
   "source": [
    "# Instead of dropping NULL values, I feel its better to replace it with titles. So that we dont loose data"
   ]
  },
  {
   "cell_type": "code",
   "execution_count": 10,
   "id": "ed650ad1",
   "metadata": {},
   "outputs": [
    {
     "name": "stdout",
     "output_type": "stream",
     "text": [
      "\n",
      " (28431, 7)\n"
     ]
    }
   ],
   "source": [
    "#Dropping NULL values\n",
    "\n",
    "#df_data.dropna(inplace=True)\n",
    "\n",
    "#print(\"\\n\", df_data.shape)\n",
    "\n",
    "#2775 records were dropped because postbody has null values."
   ]
  },
  {
   "cell_type": "code",
   "execution_count": 10,
   "id": "5ccd653d",
   "metadata": {},
   "outputs": [
    {
     "name": "stdout",
     "output_type": "stream",
     "text": [
      "\n",
      " (31206, 7)\n"
     ]
    }
   ],
   "source": [
    "# Checking the shape of data\n",
    "print(\"\\n\", df_data.shape)"
   ]
  },
  {
   "cell_type": "code",
   "execution_count": 11,
   "id": "da581469",
   "metadata": {},
   "outputs": [],
   "source": [
    "# Replacing na values in post_body attribute with data from the title attribute w.r.to same index & row\n",
    "df_data.post_body.fillna(df_data.title, inplace=True)"
   ]
  },
  {
   "cell_type": "code",
   "execution_count": 12,
   "id": "9f7cdb16",
   "metadata": {},
   "outputs": [
    {
     "data": {
      "text/html": [
       "<div>\n",
       "<style scoped>\n",
       "    .dataframe tbody tr th:only-of-type {\n",
       "        vertical-align: middle;\n",
       "    }\n",
       "\n",
       "    .dataframe tbody tr th {\n",
       "        vertical-align: top;\n",
       "    }\n",
       "\n",
       "    .dataframe thead th {\n",
       "        text-align: right;\n",
       "    }\n",
       "</style>\n",
       "<table border=\"1\" class=\"dataframe\">\n",
       "  <thead>\n",
       "    <tr style=\"text-align: right;\">\n",
       "      <th></th>\n",
       "      <th>title</th>\n",
       "      <th>post_body</th>\n",
       "      <th>author</th>\n",
       "      <th>num_comments</th>\n",
       "      <th>score</th>\n",
       "      <th>created_utc</th>\n",
       "      <th>label</th>\n",
       "    </tr>\n",
       "  </thead>\n",
       "  <tbody>\n",
       "    <tr>\n",
       "      <th>0</th>\n",
       "      <td>Parents Forced To Explain Thrill Of Having Sex...</td>\n",
       "      <td>SAN DIEGOâ€”Instructing their confused 4-year-...</td>\n",
       "      <td>kremor</td>\n",
       "      <td>0</td>\n",
       "      <td>1</td>\n",
       "      <td>1645405066</td>\n",
       "      <td>1</td>\n",
       "    </tr>\n",
       "    <tr>\n",
       "      <th>1</th>\n",
       "      <td>Posh Restaurant Has Cucumber Slices Floating I...</td>\n",
       "      <td>Posh Restaurant Has Cucumber Slices Floating I...</td>\n",
       "      <td>El_Zarco</td>\n",
       "      <td>0</td>\n",
       "      <td>1</td>\n",
       "      <td>1645281895</td>\n",
       "      <td>1</td>\n",
       "    </tr>\n",
       "    <tr>\n",
       "      <th>2</th>\n",
       "      <td>Painted Rocksnail Knows It Really Fucked If An...</td>\n",
       "      <td>WOLF CREEK, ALâ€”Reacting with dismay to news ...</td>\n",
       "      <td>Sanlear</td>\n",
       "      <td>0</td>\n",
       "      <td>1</td>\n",
       "      <td>1645268793</td>\n",
       "      <td>1</td>\n",
       "    </tr>\n",
       "    <tr>\n",
       "      <th>3</th>\n",
       "      <td>Why has The Onion gotten so much worse recenâ€”</td>\n",
       "      <td>Why has The Onion gotten so much worse recenâ€”</td>\n",
       "      <td>Additional_Barber_30</td>\n",
       "      <td>1</td>\n",
       "      <td>1</td>\n",
       "      <td>1645212992</td>\n",
       "      <td>1</td>\n",
       "    </tr>\n",
       "    <tr>\n",
       "      <th>4</th>\n",
       "      <td>Boarâ€™s Head Unveils New Funfetti Birthday Ham</td>\n",
       "      <td>SARASOTA, FLâ€”In a statement that confirmed c...</td>\n",
       "      <td>heavyLobster</td>\n",
       "      <td>0</td>\n",
       "      <td>1</td>\n",
       "      <td>1645146992</td>\n",
       "      <td>1</td>\n",
       "    </tr>\n",
       "  </tbody>\n",
       "</table>\n",
       "</div>"
      ],
      "text/plain": [
       "                                               title  \\\n",
       "0  Parents Forced To Explain Thrill Of Having Sex...   \n",
       "1  Posh Restaurant Has Cucumber Slices Floating I...   \n",
       "2  Painted Rocksnail Knows It Really Fucked If An...   \n",
       "3    Why has The Onion gotten so much worse recenâ€”   \n",
       "4    Boarâ€™s Head Unveils New Funfetti Birthday Ham   \n",
       "\n",
       "                                           post_body                author  \\\n",
       "0  SAN DIEGOâ€”Instructing their confused 4-year-...                kremor   \n",
       "1  Posh Restaurant Has Cucumber Slices Floating I...              El_Zarco   \n",
       "2  WOLF CREEK, ALâ€”Reacting with dismay to news ...               Sanlear   \n",
       "3    Why has The Onion gotten so much worse recenâ€”  Additional_Barber_30   \n",
       "4  SARASOTA, FLâ€”In a statement that confirmed c...          heavyLobster   \n",
       "\n",
       "  num_comments score created_utc  label  \n",
       "0            0     1  1645405066      1  \n",
       "1            0     1  1645281895      1  \n",
       "2            0     1  1645268793      1  \n",
       "3            1     1  1645212992      1  \n",
       "4            0     1  1645146992      1  "
      ]
     },
     "execution_count": 12,
     "metadata": {},
     "output_type": "execute_result"
    }
   ],
   "source": [
    "#Checking how data looks\n",
    "df_data.head()"
   ]
  },
  {
   "cell_type": "code",
   "execution_count": 13,
   "id": "800907c0",
   "metadata": {},
   "outputs": [
    {
     "data": {
      "text/plain": [
       "title           25849\n",
       "post_body       24320\n",
       "author          10757\n",
       "num_comments      387\n",
       "score             847\n",
       "created_utc     30939\n",
       "label               2\n",
       "dtype: int64"
      ]
     },
     "execution_count": 13,
     "metadata": {},
     "output_type": "execute_result"
    }
   ],
   "source": [
    "# Checking number of unique values w.r.to each attribute\n",
    "df_data.nunique(dropna = True)"
   ]
  },
  {
   "cell_type": "code",
   "execution_count": 14,
   "id": "7f46a0ac",
   "metadata": {},
   "outputs": [
    {
     "data": {
      "text/plain": [
       "title           0\n",
       "post_body       0\n",
       "author          0\n",
       "num_comments    0\n",
       "score           0\n",
       "created_utc     0\n",
       "label           0\n",
       "dtype: int64"
      ]
     },
     "execution_count": 14,
     "metadata": {},
     "output_type": "execute_result"
    }
   ],
   "source": [
    "# Checking the count of null values\n",
    "df_data.isna().sum()"
   ]
  },
  {
   "cell_type": "code",
   "execution_count": 15,
   "id": "a5069baa",
   "metadata": {},
   "outputs": [],
   "source": [
    "#Dropping na values\n",
    "df_data.dropna(inplace=True)"
   ]
  },
  {
   "cell_type": "code",
   "execution_count": 16,
   "id": "14ce4d1e",
   "metadata": {},
   "outputs": [],
   "source": [
    "# Replacing not upper case & not lower case letters with space\n",
    "df_data['title'] = df_data['title'].str.replace('[^A-Za-z]',' ')\n",
    "df_data['post_body'] = df_data['post_body'].str.replace('[^A-Za-z]',' ')\n",
    "df_data['author'] = df_data['author'].str.replace('[^A-Za-z]',' ')"
   ]
  },
  {
   "cell_type": "code",
   "execution_count": 17,
   "id": "4c1681c5",
   "metadata": {},
   "outputs": [],
   "source": [
    "\n",
    "# Replacing \\w\\s(not word not white space group) with space\n",
    "df_data['title'] = df_data['title'].str.replace('[^\\w\\s]',' ')\n",
    "df_data['post_body'] = df_data['post_body'].str.replace('[^\\w\\s]',' ')\n",
    "df_data['author'] = df_data['author'].str.replace('[^\\w\\s]',' ')\n",
    "\n",
    "# Removing the spaces between the words\n",
    "df_data['title'] = df_data['title'].str.replace(\"  \",\" \")\n",
    "df_data['post_body'] = df_data['post_body'].str.replace(\"  \",\" \")\n",
    "df_data['author'] = df_data['author'].str.replace(\"  \",\" \")"
   ]
  },
  {
   "cell_type": "code",
   "execution_count": 18,
   "id": "55bc7880",
   "metadata": {},
   "outputs": [],
   "source": [
    "# Transform all text to lowercase\n",
    "df_data['title'] = df_data['title'].str.lower()\n",
    "df_data['post_body'] = df_data['post_body'].str.lower()\n",
    "df_data['author'] = df_data['author'].str.lower()"
   ]
  },
  {
   "cell_type": "code",
   "execution_count": 19,
   "id": "76f2b18e",
   "metadata": {},
   "outputs": [],
   "source": [
    "# Dropping non-numeric rows from score attribute\n",
    "df_data = df_data[df_data.score.apply(lambda x: x.isnumeric())]"
   ]
  },
  {
   "cell_type": "code",
   "execution_count": 20,
   "id": "509f38f7",
   "metadata": {},
   "outputs": [
    {
     "name": "stdout",
     "output_type": "stream",
     "text": [
      "\n",
      " (31204, 7)\n"
     ]
    }
   ],
   "source": [
    "print('\\n', df_data.shape)\n",
    "# 2 records of data got dropped after running dropping non-numeric rows from score attribute"
   ]
  },
  {
   "cell_type": "code",
   "execution_count": 21,
   "id": "9c590e3d",
   "metadata": {},
   "outputs": [],
   "source": [
    "#Saving to csv\n",
    "# index = False will avoid creating unnamed column in the CSV file.\n",
    "df_data.to_csv('semi_processed_nto_to.csv', index = False)"
   ]
  },
  {
   "cell_type": "code",
   "execution_count": 22,
   "id": "6494ec5e",
   "metadata": {},
   "outputs": [],
   "source": [
    "# Converting UTC to EST\n",
    "\n",
    "df_time = pd.read_csv(\"semi_processed_nto_to.csv\")\n",
    "utc_list = df_time['created_utc'].to_list()\n",
    "local_time_year = []\n",
    "local_time_month = []\n",
    "local_time_day = []\n",
    "local_time_hour = []\n",
    "local_time_minute = []\n",
    "local_time_seconds = []\n",
    "\n",
    "for utc in utc_list:    \n",
    "    lt = datetime.datetime.fromtimestamp(utc)\n",
    "    lt_str = str(lt)    \n",
    "    time_date_array = lt_str.split(' ', 2)\n",
    "    date = time_date_array[0]\n",
    "    time = time_date_array[1]\n",
    "    date_array = date.split('-', 3)\n",
    "    time_array = time.split(':', 3)\n",
    "        \n",
    "    local_time_year.append(date_array[0])\n",
    "    local_time_month.append(date_array[1])\n",
    "    local_time_day.append(date_array[2])\n",
    "\n",
    "    local_time_hour.append(time_array[0])\n",
    "    local_time_minute.append(time_array[1])\n",
    "    local_time_seconds.append(time_array[2])\n",
    "    \n",
    "\n",
    "df_time['local_time_year'] = local_time_year\n",
    "df_time['local_time_month'] = local_time_month\n",
    "df_time['local_time_day'] = local_time_day\n",
    "df_time['local_time_hour'] = local_time_hour\n",
    "df_time['local_time_minute'] = local_time_minute\n",
    "df_time['local_time_second'] = local_time_seconds\n",
    "\n",
    "# Savving the converted time into a new csv file\n",
    "df_time.to_csv('preprocessed_nto_to.csv', index = False)"
   ]
  },
  {
   "cell_type": "code",
   "execution_count": 23,
   "id": "00f45297",
   "metadata": {},
   "outputs": [],
   "source": [
    "df_nto_to = pd.read_csv('preprocessed_nto_to.csv')"
   ]
  },
  {
   "cell_type": "code",
   "execution_count": 24,
   "id": "43005acd",
   "metadata": {},
   "outputs": [
    {
     "name": "stdout",
     "output_type": "stream",
     "text": [
      "\n",
      " (31204, 13)\n",
      "<class 'pandas.core.frame.DataFrame'>\n",
      "RangeIndex: 31204 entries, 0 to 31203\n",
      "Data columns (total 13 columns):\n",
      " #   Column             Non-Null Count  Dtype \n",
      "---  ------             --------------  ----- \n",
      " 0   title              31204 non-null  object\n",
      " 1   post_body          31204 non-null  object\n",
      " 2   author             31204 non-null  object\n",
      " 3   num_comments       31204 non-null  int64 \n",
      " 4   score              31204 non-null  int64 \n",
      " 5   created_utc        31204 non-null  int64 \n",
      " 6   label              31204 non-null  int64 \n",
      " 7   local_time_year    31204 non-null  int64 \n",
      " 8   local_time_month   31204 non-null  int64 \n",
      " 9   local_time_day     31204 non-null  int64 \n",
      " 10  local_time_hour    31204 non-null  int64 \n",
      " 11  local_time_minute  31204 non-null  int64 \n",
      " 12  local_time_second  31204 non-null  int64 \n",
      "dtypes: int64(10), object(3)\n",
      "memory usage: 3.1+ MB\n"
     ]
    }
   ],
   "source": [
    "# Checking new shape and info of the data\n",
    "print('\\n', df_nto_to.shape)\n",
    "\n",
    "df_nto_to.info()"
   ]
  },
  {
   "cell_type": "code",
   "execution_count": 25,
   "id": "7499861c",
   "metadata": {},
   "outputs": [],
   "source": [
    "#Dropping created_utc, local_time_minute and local_time_second columns\n",
    "\n",
    "df_nto_to = df_nto_to.drop(columns = ['created_utc','local_time_minute','local_time_second'])"
   ]
  },
  {
   "cell_type": "code",
   "execution_count": 26,
   "id": "74f84a72",
   "metadata": {},
   "outputs": [
    {
     "name": "stdout",
     "output_type": "stream",
     "text": [
      "\n",
      " (31204, 10)\n"
     ]
    }
   ],
   "source": [
    "# Checking new shape\n",
    "print('\\n', df_nto_to.shape)"
   ]
  },
  {
   "cell_type": "code",
   "execution_count": 27,
   "id": "797ed222",
   "metadata": {},
   "outputs": [
    {
     "data": {
      "text/html": [
       "<div>\n",
       "<style scoped>\n",
       "    .dataframe tbody tr th:only-of-type {\n",
       "        vertical-align: middle;\n",
       "    }\n",
       "\n",
       "    .dataframe tbody tr th {\n",
       "        vertical-align: top;\n",
       "    }\n",
       "\n",
       "    .dataframe thead th {\n",
       "        text-align: right;\n",
       "    }\n",
       "</style>\n",
       "<table border=\"1\" class=\"dataframe\">\n",
       "  <thead>\n",
       "    <tr style=\"text-align: right;\">\n",
       "      <th></th>\n",
       "      <th>num_comments</th>\n",
       "      <th>score</th>\n",
       "      <th>label</th>\n",
       "      <th>local_time_year</th>\n",
       "      <th>local_time_month</th>\n",
       "      <th>local_time_day</th>\n",
       "      <th>local_time_hour</th>\n",
       "    </tr>\n",
       "  </thead>\n",
       "  <tbody>\n",
       "    <tr>\n",
       "      <th>count</th>\n",
       "      <td>31204.000000</td>\n",
       "      <td>31204.000000</td>\n",
       "      <td>31204.000000</td>\n",
       "      <td>31204.000000</td>\n",
       "      <td>31204.000000</td>\n",
       "      <td>31204.000000</td>\n",
       "      <td>31204.000000</td>\n",
       "    </tr>\n",
       "    <tr>\n",
       "      <th>mean</th>\n",
       "      <td>9.347359</td>\n",
       "      <td>36.085694</td>\n",
       "      <td>0.445680</td>\n",
       "      <td>2019.982022</td>\n",
       "      <td>6.486508</td>\n",
       "      <td>15.189559</td>\n",
       "      <td>12.686675</td>\n",
       "    </tr>\n",
       "    <tr>\n",
       "      <th>std</th>\n",
       "      <td>99.237334</td>\n",
       "      <td>363.651336</td>\n",
       "      <td>0.497049</td>\n",
       "      <td>2.115431</td>\n",
       "      <td>4.419279</td>\n",
       "      <td>8.791385</td>\n",
       "      <td>5.583240</td>\n",
       "    </tr>\n",
       "    <tr>\n",
       "      <th>min</th>\n",
       "      <td>0.000000</td>\n",
       "      <td>0.000000</td>\n",
       "      <td>0.000000</td>\n",
       "      <td>2014.000000</td>\n",
       "      <td>1.000000</td>\n",
       "      <td>1.000000</td>\n",
       "      <td>0.000000</td>\n",
       "    </tr>\n",
       "    <tr>\n",
       "      <th>25%</th>\n",
       "      <td>0.000000</td>\n",
       "      <td>1.000000</td>\n",
       "      <td>0.000000</td>\n",
       "      <td>2018.000000</td>\n",
       "      <td>2.000000</td>\n",
       "      <td>8.000000</td>\n",
       "      <td>9.000000</td>\n",
       "    </tr>\n",
       "    <tr>\n",
       "      <th>50%</th>\n",
       "      <td>0.000000</td>\n",
       "      <td>1.000000</td>\n",
       "      <td>0.000000</td>\n",
       "      <td>2021.000000</td>\n",
       "      <td>6.500000</td>\n",
       "      <td>15.000000</td>\n",
       "      <td>13.000000</td>\n",
       "    </tr>\n",
       "    <tr>\n",
       "      <th>75%</th>\n",
       "      <td>2.000000</td>\n",
       "      <td>2.000000</td>\n",
       "      <td>1.000000</td>\n",
       "      <td>2022.000000</td>\n",
       "      <td>11.000000</td>\n",
       "      <td>22.000000</td>\n",
       "      <td>17.000000</td>\n",
       "    </tr>\n",
       "    <tr>\n",
       "      <th>max</th>\n",
       "      <td>6526.000000</td>\n",
       "      <td>33432.000000</td>\n",
       "      <td>1.000000</td>\n",
       "      <td>2022.000000</td>\n",
       "      <td>12.000000</td>\n",
       "      <td>31.000000</td>\n",
       "      <td>23.000000</td>\n",
       "    </tr>\n",
       "  </tbody>\n",
       "</table>\n",
       "</div>"
      ],
      "text/plain": [
       "       num_comments         score         label  local_time_year  \\\n",
       "count  31204.000000  31204.000000  31204.000000     31204.000000   \n",
       "mean       9.347359     36.085694      0.445680      2019.982022   \n",
       "std       99.237334    363.651336      0.497049         2.115431   \n",
       "min        0.000000      0.000000      0.000000      2014.000000   \n",
       "25%        0.000000      1.000000      0.000000      2018.000000   \n",
       "50%        0.000000      1.000000      0.000000      2021.000000   \n",
       "75%        2.000000      2.000000      1.000000      2022.000000   \n",
       "max     6526.000000  33432.000000      1.000000      2022.000000   \n",
       "\n",
       "       local_time_month  local_time_day  local_time_hour  \n",
       "count      31204.000000    31204.000000     31204.000000  \n",
       "mean           6.486508       15.189559        12.686675  \n",
       "std            4.419279        8.791385         5.583240  \n",
       "min            1.000000        1.000000         0.000000  \n",
       "25%            2.000000        8.000000         9.000000  \n",
       "50%            6.500000       15.000000        13.000000  \n",
       "75%           11.000000       22.000000        17.000000  \n",
       "max           12.000000       31.000000        23.000000  "
      ]
     },
     "execution_count": 27,
     "metadata": {},
     "output_type": "execute_result"
    }
   ],
   "source": [
    "df_nto_to.describe()"
   ]
  },
  {
   "cell_type": "code",
   "execution_count": 28,
   "id": "5f4a4c88",
   "metadata": {},
   "outputs": [],
   "source": [
    "author_names = df_nto_to.author.value_counts().index"
   ]
  },
  {
   "cell_type": "code",
   "execution_count": 29,
   "id": "dbf89442",
   "metadata": {},
   "outputs": [],
   "source": [
    "author_val = df_nto_to.author.value_counts().values"
   ]
  },
  {
   "cell_type": "code",
   "execution_count": null,
   "id": "111634b0",
   "metadata": {},
   "outputs": [],
   "source": [
    "# Plot Pie Chart\n",
    "plt.pie(author_val[:10],labels = author_names[:10],autopct = '%1.2f%%', radius = 2)"
   ]
  },
  {
   "cell_type": "code",
   "execution_count": null,
   "id": "09b7bb53",
   "metadata": {},
   "outputs": [],
   "source": []
  }
 ],
 "metadata": {
  "kernelspec": {
   "display_name": "Python 3 (ipykernel)",
   "language": "python",
   "name": "python3"
  },
  "language_info": {
   "codemirror_mode": {
    "name": "ipython",
    "version": 3
   },
   "file_extension": ".py",
   "mimetype": "text/x-python",
   "name": "python",
   "nbconvert_exporter": "python",
   "pygments_lexer": "ipython3",
   "version": "3.9.0"
  }
 },
 "nbformat": 4,
 "nbformat_minor": 5
}
