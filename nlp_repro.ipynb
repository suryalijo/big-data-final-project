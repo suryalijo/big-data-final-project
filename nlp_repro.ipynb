{
 "cells": [
  {
   "cell_type": "code",
   "execution_count": 1,
   "id": "b9e8eb08",
   "metadata": {
    "ExecuteTime": {
     "end_time": "2022-03-04T05:00:00.004031Z",
     "start_time": "2022-03-04T04:59:51.542556Z"
    }
   },
   "outputs": [],
   "source": [
    "import pandas as pd\n",
    "import sweetviz as sv\n",
    "import warnings\n",
    "warnings.filterwarnings(\"ignore\")\n",
    "import numpy as np\n",
    "import datetime\n",
    "import seaborn as sns\n",
    "import matplotlib.pyplot as plt\n",
    "%matplotlib inline\n",
    "import nltk\n",
    "import ssl\n",
    "\n",
    "# try:\n",
    "#     _create_unverified_https_context = ssl._create_unverified_context\n",
    "# except AttributeError:\n",
    "#     pass\n",
    "# else:\n",
    "#     ssl._create_default_https_context = _create_unverified_https_context\n",
    "\n",
    "# nltk.download()\n",
    "# nltk.download('stopwords')"
   ]
  },
  {
   "cell_type": "code",
   "execution_count": 2,
   "id": "0a1ed6ec",
   "metadata": {
    "ExecuteTime": {
     "end_time": "2022-03-04T05:00:00.998844Z",
     "start_time": "2022-03-04T05:00:00.006012Z"
    }
   },
   "outputs": [],
   "source": [
    "from nltk.corpus import stopwords\n",
    "\n",
    "stop = stopwords.words('english')"
   ]
  },
  {
   "cell_type": "code",
   "execution_count": 3,
   "id": "378f986e",
   "metadata": {
    "ExecuteTime": {
     "end_time": "2022-03-04T05:00:01.573986Z",
     "start_time": "2022-03-04T05:00:01.000844Z"
    }
   },
   "outputs": [],
   "source": [
    "df = pd.read_csv(\"preprocessed_nto_to.csv\")"
   ]
  },
  {
   "cell_type": "code",
   "execution_count": 4,
   "id": "6f0df461",
   "metadata": {
    "ExecuteTime": {
     "end_time": "2022-03-04T05:00:01.589977Z",
     "start_time": "2022-03-04T05:00:01.575973Z"
    }
   },
   "outputs": [],
   "source": [
    "df = df.drop(columns = ['created_utc','local_time_minute','local_time_second'])"
   ]
  },
  {
   "cell_type": "code",
   "execution_count": 5,
   "id": "33d41f55",
   "metadata": {
    "ExecuteTime": {
     "end_time": "2022-03-04T05:00:04.700711Z",
     "start_time": "2022-03-04T05:00:01.591984Z"
    }
   },
   "outputs": [],
   "source": [
    "df.title = df.title.replace('\\s+', ' ', regex=True)\n",
    "df.post_body = df.post_body.replace('\\s+', ' ', regex=True)\n",
    "df.author = df.author.replace('\\s+', ' ', regex=True)"
   ]
  },
  {
   "cell_type": "code",
   "execution_count": null,
   "id": "36ac5b57",
   "metadata": {},
   "outputs": [],
   "source": []
  },
  {
   "cell_type": "markdown",
   "id": "45cc9641",
   "metadata": {
    "ExecuteTime": {
     "end_time": "2022-03-03T19:38:29.733888Z",
     "start_time": "2022-03-03T19:38:15.629550Z"
    }
   },
   "source": [
    "### Language"
   ]
  },
  {
   "cell_type": "code",
   "execution_count": 6,
   "id": "4b06a592",
   "metadata": {
    "ExecuteTime": {
     "end_time": "2022-03-04T05:00:04.716738Z",
     "start_time": "2022-03-04T05:00:04.702728Z"
    }
   },
   "outputs": [],
   "source": [
    "import langdetect \n"
   ]
  },
  {
   "cell_type": "code",
   "execution_count": 7,
   "id": "b9b9c974",
   "metadata": {
    "ExecuteTime": {
     "end_time": "2022-03-04T05:04:35.888050Z",
     "start_time": "2022-03-04T05:00:04.717731Z"
    }
   },
   "outputs": [],
   "source": [
    "df['lang'] = df[\"post_body\"].apply(lambda x: langdetect.detect(x) if \n",
    "                                 x.strip() != \"\" else \"\")"
   ]
  },
  {
   "cell_type": "code",
   "execution_count": 8,
   "id": "7f1ce646",
   "metadata": {
    "ExecuteTime": {
     "end_time": "2022-03-04T05:04:35.920057Z",
     "start_time": "2022-03-04T05:04:35.890050Z"
    }
   },
   "outputs": [],
   "source": [
    "df = df[df[\"lang\"]==\"en\"]"
   ]
  },
  {
   "cell_type": "code",
   "execution_count": 9,
   "id": "147eda19",
   "metadata": {
    "ExecuteTime": {
     "end_time": "2022-03-04T05:04:35.936080Z",
     "start_time": "2022-03-04T05:04:35.923057Z"
    }
   },
   "outputs": [],
   "source": [
    "df = df.drop(columns = ['lang'])"
   ]
  },
  {
   "cell_type": "markdown",
   "id": "a6c0869b",
   "metadata": {},
   "source": [
    "### stop words"
   ]
  },
  {
   "cell_type": "code",
   "execution_count": 10,
   "id": "7f39a39b",
   "metadata": {
    "ExecuteTime": {
     "end_time": "2022-03-04T05:04:50.007704Z",
     "start_time": "2022-03-04T05:04:35.939068Z"
    }
   },
   "outputs": [],
   "source": [
    "df['post_body_stop'] = df['post_body'].apply(lambda x: ' '.join([word for word in x.split() if word not in (stop)]))"
   ]
  },
  {
   "cell_type": "code",
   "execution_count": 11,
   "id": "ad9199b1",
   "metadata": {
    "ExecuteTime": {
     "end_time": "2022-03-04T05:04:50.103769Z",
     "start_time": "2022-03-04T05:04:50.008746Z"
    }
   },
   "outputs": [
    {
     "data": {
      "text/html": [
       "<div>\n",
       "<style scoped>\n",
       "    .dataframe tbody tr th:only-of-type {\n",
       "        vertical-align: middle;\n",
       "    }\n",
       "\n",
       "    .dataframe tbody tr th {\n",
       "        vertical-align: top;\n",
       "    }\n",
       "\n",
       "    .dataframe thead th {\n",
       "        text-align: right;\n",
       "    }\n",
       "</style>\n",
       "<table border=\"1\" class=\"dataframe\">\n",
       "  <thead>\n",
       "    <tr style=\"text-align: right;\">\n",
       "      <th></th>\n",
       "      <th>title</th>\n",
       "      <th>post_body</th>\n",
       "      <th>author</th>\n",
       "      <th>num_comments</th>\n",
       "      <th>score</th>\n",
       "      <th>label</th>\n",
       "      <th>local_time_year</th>\n",
       "      <th>local_time_month</th>\n",
       "      <th>local_time_day</th>\n",
       "      <th>local_time_hour</th>\n",
       "      <th>post_body_stop</th>\n",
       "    </tr>\n",
       "  </thead>\n",
       "  <tbody>\n",
       "    <tr>\n",
       "      <th>0</th>\n",
       "      <td>parents forced to explain thrill of having sex...</td>\n",
       "      <td>san diego instructing their confused year old ...</td>\n",
       "      <td>kremor</td>\n",
       "      <td>0</td>\n",
       "      <td>1</td>\n",
       "      <td>1</td>\n",
       "      <td>2022</td>\n",
       "      <td>2</td>\n",
       "      <td>20</td>\n",
       "      <td>19</td>\n",
       "      <td>san diego instructing confused year old point ...</td>\n",
       "    </tr>\n",
       "    <tr>\n",
       "      <th>1</th>\n",
       "      <td>posh restaurant has cucumber slices floating i...</td>\n",
       "      <td>posh restaurant has cucumber slices floating i...</td>\n",
       "      <td>el zarco</td>\n",
       "      <td>0</td>\n",
       "      <td>1</td>\n",
       "      <td>1</td>\n",
       "      <td>2022</td>\n",
       "      <td>2</td>\n",
       "      <td>19</td>\n",
       "      <td>9</td>\n",
       "      <td>posh restaurant cucumber slices floating jug h...</td>\n",
       "    </tr>\n",
       "    <tr>\n",
       "      <th>2</th>\n",
       "      <td>painted rocksnail knows it really fucked if an...</td>\n",
       "      <td>wolf creek al reacting with dismay to news tha...</td>\n",
       "      <td>sanlear</td>\n",
       "      <td>0</td>\n",
       "      <td>1</td>\n",
       "      <td>1</td>\n",
       "      <td>2022</td>\n",
       "      <td>2</td>\n",
       "      <td>19</td>\n",
       "      <td>6</td>\n",
       "      <td>wolf creek al reacting dismay news beloved mar...</td>\n",
       "    </tr>\n",
       "    <tr>\n",
       "      <th>3</th>\n",
       "      <td>why has the onion gotten so much worse recen</td>\n",
       "      <td>why has the onion gotten so much worse recen</td>\n",
       "      <td>additional barber</td>\n",
       "      <td>1</td>\n",
       "      <td>1</td>\n",
       "      <td>1</td>\n",
       "      <td>2022</td>\n",
       "      <td>2</td>\n",
       "      <td>18</td>\n",
       "      <td>14</td>\n",
       "      <td>onion gotten much worse recen</td>\n",
       "    </tr>\n",
       "    <tr>\n",
       "      <th>4</th>\n",
       "      <td>boar s head unveils new funfetti birthday ham</td>\n",
       "      <td>sarasota fl in a statement that confirmed cust...</td>\n",
       "      <td>heavylobster</td>\n",
       "      <td>0</td>\n",
       "      <td>1</td>\n",
       "      <td>1</td>\n",
       "      <td>2022</td>\n",
       "      <td>2</td>\n",
       "      <td>17</td>\n",
       "      <td>20</td>\n",
       "      <td>sarasota fl statement confirmed customers turn...</td>\n",
       "    </tr>\n",
       "  </tbody>\n",
       "</table>\n",
       "</div>"
      ],
      "text/plain": [
       "                                               title  \\\n",
       "0  parents forced to explain thrill of having sex...   \n",
       "1  posh restaurant has cucumber slices floating i...   \n",
       "2  painted rocksnail knows it really fucked if an...   \n",
       "3      why has the onion gotten so much worse recen    \n",
       "4      boar s head unveils new funfetti birthday ham   \n",
       "\n",
       "                                           post_body              author  \\\n",
       "0  san diego instructing their confused year old ...              kremor   \n",
       "1  posh restaurant has cucumber slices floating i...            el zarco   \n",
       "2  wolf creek al reacting with dismay to news tha...             sanlear   \n",
       "3      why has the onion gotten so much worse recen   additional barber    \n",
       "4  sarasota fl in a statement that confirmed cust...        heavylobster   \n",
       "\n",
       "   num_comments  score  label  local_time_year  local_time_month  \\\n",
       "0             0      1      1             2022                 2   \n",
       "1             0      1      1             2022                 2   \n",
       "2             0      1      1             2022                 2   \n",
       "3             1      1      1             2022                 2   \n",
       "4             0      1      1             2022                 2   \n",
       "\n",
       "   local_time_day  local_time_hour  \\\n",
       "0              20               19   \n",
       "1              19                9   \n",
       "2              19                6   \n",
       "3              18               14   \n",
       "4              17               20   \n",
       "\n",
       "                                      post_body_stop  \n",
       "0  san diego instructing confused year old point ...  \n",
       "1  posh restaurant cucumber slices floating jug h...  \n",
       "2  wolf creek al reacting dismay news beloved mar...  \n",
       "3                      onion gotten much worse recen  \n",
       "4  sarasota fl statement confirmed customers turn...  "
      ]
     },
     "execution_count": 11,
     "metadata": {},
     "output_type": "execute_result"
    }
   ],
   "source": [
    "df.head()"
   ]
  },
  {
   "cell_type": "code",
   "execution_count": 12,
   "id": "8b8b42c9",
   "metadata": {
    "ExecuteTime": {
     "end_time": "2022-03-04T05:04:50.119771Z",
     "start_time": "2022-03-04T05:04:50.105771Z"
    }
   },
   "outputs": [
    {
     "data": {
      "text/plain": [
       "'san diego instructing their confused year old not to point or stare at the primates at the san diego zoo local parents jen and mark haskell were reportedly forced to explain the thrill of having sex in public to their daughter wednesday after a pair of monkeys started mating in front of them honey right now the mommy monkey and the daddy monkey are making a baby and they really really like that we re watching them said mother jen haskell adding that the male monkey who then proceeded to scream growl and mount his female companion was clearly an exhibitionist who got off on the spectacle of it all i know it might not make sense but deep down these monkeys want you to laugh scream or take pictures of them because it all plays into their complex psychosexual game sometimes vanilla stuff just isn t enough for a mommy and daddy monkey anymore and doing it in front of a crowd of a couple dozen unsuspecting families in a public area is the only thing that will get them to feel true sexual pleasure anymore haskell also explained to her daughter that while it was totally acceptable to explore scat play with a partner the monkeys were simply throwing their feces because they were stressed '"
      ]
     },
     "execution_count": 12,
     "metadata": {},
     "output_type": "execute_result"
    }
   ],
   "source": [
    "df['post_body'][0]"
   ]
  },
  {
   "cell_type": "code",
   "execution_count": 13,
   "id": "eff6221c",
   "metadata": {
    "ExecuteTime": {
     "end_time": "2022-03-04T05:04:50.135774Z",
     "start_time": "2022-03-04T05:04:50.120771Z"
    }
   },
   "outputs": [
    {
     "data": {
      "text/plain": [
       "'san diego instructing confused year old point stare primates san diego zoo local parents jen mark haskell reportedly forced explain thrill sex public daughter wednesday pair monkeys started mating front honey right mommy monkey daddy monkey making baby really really like watching said mother jen haskell adding male monkey proceeded scream growl mount female companion clearly exhibitionist got spectacle know might make sense deep monkeys want laugh scream take pictures plays complex psychosexual game sometimes vanilla stuff enough mommy daddy monkey anymore front crowd couple dozen unsuspecting families public area thing get feel true sexual pleasure anymore haskell also explained daughter totally acceptable explore scat play partner monkeys simply throwing feces stressed'"
      ]
     },
     "execution_count": 13,
     "metadata": {},
     "output_type": "execute_result"
    }
   ],
   "source": [
    "df['post_body_stop'][0]"
   ]
  },
  {
   "cell_type": "markdown",
   "id": "f9fae26c",
   "metadata": {},
   "source": [
    "### Tpken"
   ]
  },
  {
   "cell_type": "code",
   "execution_count": 14,
   "id": "a169fe40",
   "metadata": {
    "ExecuteTime": {
     "end_time": "2022-03-04T05:05:10.058747Z",
     "start_time": "2022-03-04T05:04:50.136775Z"
    }
   },
   "outputs": [],
   "source": [
    "import nltk\n",
    "df['tokenized_sents'] = df.apply(lambda row: nltk.word_tokenize(row['post_body_stop']), axis=1)"
   ]
  },
  {
   "cell_type": "code",
   "execution_count": 15,
   "id": "17b69fb8",
   "metadata": {
    "ExecuteTime": {
     "end_time": "2022-03-04T05:05:10.073761Z",
     "start_time": "2022-03-04T05:05:10.060751Z"
    }
   },
   "outputs": [
    {
     "data": {
      "text/plain": [
       "0        [san, diego, instructing, confused, year, old,...\n",
       "1        [posh, restaurant, cucumber, slices, floating,...\n",
       "2        [wolf, creek, al, reacting, dismay, news, belo...\n",
       "3                      [onion, gotten, much, worse, recen]\n",
       "4        [sarasota, fl, statement, confirmed, customers...\n",
       "                               ...                        \n",
       "31199    [stellan, skarsg, rd, dune, warner, bros, baro...\n",
       "31200    [donald, trump, jr, selling, shirts, web, site...\n",
       "31201    [donald, trump, jr, begun, selling, merchandis...\n",
       "31202    [donald, trump, jr, begun, selling, merchandis...\n",
       "31203    [last, week, horrifying, tragedy, occurred, se...\n",
       "Name: tokenized_sents, Length: 30948, dtype: object"
      ]
     },
     "execution_count": 15,
     "metadata": {},
     "output_type": "execute_result"
    }
   ],
   "source": [
    "df['tokenized_sents']"
   ]
  },
  {
   "cell_type": "code",
   "execution_count": null,
   "id": "5bef30b7",
   "metadata": {},
   "outputs": [],
   "source": []
  },
  {
   "cell_type": "markdown",
   "id": "56183bf1",
   "metadata": {},
   "source": [
    "### Stemming"
   ]
  },
  {
   "cell_type": "code",
   "execution_count": 16,
   "id": "4c356498",
   "metadata": {
    "ExecuteTime": {
     "end_time": "2022-03-04T05:05:10.089401Z",
     "start_time": "2022-03-04T05:05:10.074754Z"
    }
   },
   "outputs": [],
   "source": [
    "from nltk.stem.snowball import SnowballStemmer"
   ]
  },
  {
   "cell_type": "code",
   "execution_count": 17,
   "id": "5b38dc32",
   "metadata": {
    "ExecuteTime": {
     "end_time": "2022-03-04T05:05:10.104616Z",
     "start_time": "2022-03-04T05:05:10.091400Z"
    }
   },
   "outputs": [],
   "source": [
    "stemmer = SnowballStemmer(\"english\")"
   ]
  },
  {
   "cell_type": "code",
   "execution_count": 18,
   "id": "99b314ea",
   "metadata": {
    "ExecuteTime": {
     "start_time": "2022-03-04T04:59:51.575Z"
    }
   },
   "outputs": [],
   "source": [
    "df['stemmed'] = df['tokenized_sents'].apply(lambda x: [stemmer.stem(y) for y in x])"
   ]
  },
  {
   "cell_type": "code",
   "execution_count": 19,
   "id": "6a96dd94",
   "metadata": {
    "ExecuteTime": {
     "start_time": "2022-03-04T04:59:51.576Z"
    }
   },
   "outputs": [
    {
     "data": {
      "text/plain": [
       "['san',\n",
       " 'diego',\n",
       " 'instruct',\n",
       " 'confus',\n",
       " 'year',\n",
       " 'old',\n",
       " 'point',\n",
       " 'stare',\n",
       " 'primat',\n",
       " 'san',\n",
       " 'diego',\n",
       " 'zoo',\n",
       " 'local',\n",
       " 'parent',\n",
       " 'jen',\n",
       " 'mark',\n",
       " 'haskel',\n",
       " 'report',\n",
       " 'forc',\n",
       " 'explain',\n",
       " 'thrill',\n",
       " 'sex',\n",
       " 'public',\n",
       " 'daughter',\n",
       " 'wednesday',\n",
       " 'pair',\n",
       " 'monkey',\n",
       " 'start',\n",
       " 'mate',\n",
       " 'front',\n",
       " 'honey',\n",
       " 'right',\n",
       " 'mommi',\n",
       " 'monkey',\n",
       " 'daddi',\n",
       " 'monkey',\n",
       " 'make',\n",
       " 'babi',\n",
       " 'realli',\n",
       " 'realli',\n",
       " 'like',\n",
       " 'watch',\n",
       " 'said',\n",
       " 'mother',\n",
       " 'jen',\n",
       " 'haskel',\n",
       " 'ad',\n",
       " 'male',\n",
       " 'monkey',\n",
       " 'proceed',\n",
       " 'scream',\n",
       " 'growl',\n",
       " 'mount',\n",
       " 'femal',\n",
       " 'companion',\n",
       " 'clear',\n",
       " 'exhibitionist',\n",
       " 'got',\n",
       " 'spectacl',\n",
       " 'know',\n",
       " 'might',\n",
       " 'make',\n",
       " 'sens',\n",
       " 'deep',\n",
       " 'monkey',\n",
       " 'want',\n",
       " 'laugh',\n",
       " 'scream',\n",
       " 'take',\n",
       " 'pictur',\n",
       " 'play',\n",
       " 'complex',\n",
       " 'psychosexu',\n",
       " 'game',\n",
       " 'sometim',\n",
       " 'vanilla',\n",
       " 'stuff',\n",
       " 'enough',\n",
       " 'mommi',\n",
       " 'daddi',\n",
       " 'monkey',\n",
       " 'anymor',\n",
       " 'front',\n",
       " 'crowd',\n",
       " 'coupl',\n",
       " 'dozen',\n",
       " 'unsuspect',\n",
       " 'famili',\n",
       " 'public',\n",
       " 'area',\n",
       " 'thing',\n",
       " 'get',\n",
       " 'feel',\n",
       " 'true',\n",
       " 'sexual',\n",
       " 'pleasur',\n",
       " 'anymor',\n",
       " 'haskel',\n",
       " 'also',\n",
       " 'explain',\n",
       " 'daughter',\n",
       " 'total',\n",
       " 'accept',\n",
       " 'explor',\n",
       " 'scat',\n",
       " 'play',\n",
       " 'partner',\n",
       " 'monkey',\n",
       " 'simpli',\n",
       " 'throw',\n",
       " 'fece',\n",
       " 'stress']"
      ]
     },
     "execution_count": 19,
     "metadata": {},
     "output_type": "execute_result"
    }
   ],
   "source": [
    "df['stemmed'][0]"
   ]
  },
  {
   "cell_type": "code",
   "execution_count": 20,
   "id": "0578cfdf",
   "metadata": {
    "ExecuteTime": {
     "start_time": "2022-03-04T04:59:51.577Z"
    }
   },
   "outputs": [],
   "source": [
    "df['word_count'] = df[\"stemmed\"].apply(lambda x: len(str(x).split(\" \")))\n",
    "df['char_count'] = df[\"stemmed\"].apply(lambda x: sum(len(word) for word in str(x).split(\" \")))\n",
    "df['avg_word_length'] = df['char_count'] / df['word_count']\n"
   ]
  },
  {
   "cell_type": "code",
   "execution_count": 21,
   "id": "2f400ec0",
   "metadata": {
    "ExecuteTime": {
     "start_time": "2022-03-04T04:59:51.579Z"
    }
   },
   "outputs": [
    {
     "data": {
      "text/html": [
       "<div>\n",
       "<style scoped>\n",
       "    .dataframe tbody tr th:only-of-type {\n",
       "        vertical-align: middle;\n",
       "    }\n",
       "\n",
       "    .dataframe tbody tr th {\n",
       "        vertical-align: top;\n",
       "    }\n",
       "\n",
       "    .dataframe thead th {\n",
       "        text-align: right;\n",
       "    }\n",
       "</style>\n",
       "<table border=\"1\" class=\"dataframe\">\n",
       "  <thead>\n",
       "    <tr style=\"text-align: right;\">\n",
       "      <th></th>\n",
       "      <th>title</th>\n",
       "      <th>post_body</th>\n",
       "      <th>author</th>\n",
       "      <th>num_comments</th>\n",
       "      <th>score</th>\n",
       "      <th>label</th>\n",
       "      <th>local_time_year</th>\n",
       "      <th>local_time_month</th>\n",
       "      <th>local_time_day</th>\n",
       "      <th>local_time_hour</th>\n",
       "      <th>post_body_stop</th>\n",
       "      <th>tokenized_sents</th>\n",
       "      <th>stemmed</th>\n",
       "      <th>word_count</th>\n",
       "      <th>char_count</th>\n",
       "      <th>avg_word_length</th>\n",
       "    </tr>\n",
       "  </thead>\n",
       "  <tbody>\n",
       "    <tr>\n",
       "      <th>0</th>\n",
       "      <td>parents forced to explain thrill of having sex...</td>\n",
       "      <td>san diego instructing their confused year old ...</td>\n",
       "      <td>kremor</td>\n",
       "      <td>0</td>\n",
       "      <td>1</td>\n",
       "      <td>1</td>\n",
       "      <td>2022</td>\n",
       "      <td>2</td>\n",
       "      <td>20</td>\n",
       "      <td>19</td>\n",
       "      <td>san diego instructing confused year old point ...</td>\n",
       "      <td>[san, diego, instructing, confused, year, old,...</td>\n",
       "      <td>[san, diego, instruct, confus, year, old, poin...</td>\n",
       "      <td>112</td>\n",
       "      <td>936</td>\n",
       "      <td>8.357143</td>\n",
       "    </tr>\n",
       "    <tr>\n",
       "      <th>1</th>\n",
       "      <td>posh restaurant has cucumber slices floating i...</td>\n",
       "      <td>posh restaurant has cucumber slices floating i...</td>\n",
       "      <td>el zarco</td>\n",
       "      <td>0</td>\n",
       "      <td>1</td>\n",
       "      <td>1</td>\n",
       "      <td>2022</td>\n",
       "      <td>2</td>\n",
       "      <td>19</td>\n",
       "      <td>9</td>\n",
       "      <td>posh restaurant cucumber slices floating jug h...</td>\n",
       "      <td>[posh, restaurant, cucumber, slices, floating,...</td>\n",
       "      <td>[posh, restaur, cucumb, slice, float, jug, han...</td>\n",
       "      <td>8</td>\n",
       "      <td>64</td>\n",
       "      <td>8.000000</td>\n",
       "    </tr>\n",
       "    <tr>\n",
       "      <th>2</th>\n",
       "      <td>painted rocksnail knows it really fucked if an...</td>\n",
       "      <td>wolf creek al reacting with dismay to news tha...</td>\n",
       "      <td>sanlear</td>\n",
       "      <td>0</td>\n",
       "      <td>1</td>\n",
       "      <td>1</td>\n",
       "      <td>2022</td>\n",
       "      <td>2</td>\n",
       "      <td>19</td>\n",
       "      <td>6</td>\n",
       "      <td>wolf creek al reacting dismay news beloved mar...</td>\n",
       "      <td>[wolf, creek, al, reacting, dismay, news, belo...</td>\n",
       "      <td>[wolf, creek, al, react, dismay, news, belov, ...</td>\n",
       "      <td>129</td>\n",
       "      <td>1041</td>\n",
       "      <td>8.069767</td>\n",
       "    </tr>\n",
       "    <tr>\n",
       "      <th>3</th>\n",
       "      <td>why has the onion gotten so much worse recen</td>\n",
       "      <td>why has the onion gotten so much worse recen</td>\n",
       "      <td>additional barber</td>\n",
       "      <td>1</td>\n",
       "      <td>1</td>\n",
       "      <td>1</td>\n",
       "      <td>2022</td>\n",
       "      <td>2</td>\n",
       "      <td>18</td>\n",
       "      <td>14</td>\n",
       "      <td>onion gotten much worse recen</td>\n",
       "      <td>[onion, gotten, much, worse, recen]</td>\n",
       "      <td>[onion, gotten, much, wors, recen]</td>\n",
       "      <td>5</td>\n",
       "      <td>40</td>\n",
       "      <td>8.000000</td>\n",
       "    </tr>\n",
       "    <tr>\n",
       "      <th>4</th>\n",
       "      <td>boar s head unveils new funfetti birthday ham</td>\n",
       "      <td>sarasota fl in a statement that confirmed cust...</td>\n",
       "      <td>heavylobster</td>\n",
       "      <td>0</td>\n",
       "      <td>1</td>\n",
       "      <td>1</td>\n",
       "      <td>2022</td>\n",
       "      <td>2</td>\n",
       "      <td>17</td>\n",
       "      <td>20</td>\n",
       "      <td>sarasota fl statement confirmed customers turn...</td>\n",
       "      <td>[sarasota, fl, statement, confirmed, customers...</td>\n",
       "      <td>[sarasota, fl, statement, confirm, custom, tur...</td>\n",
       "      <td>101</td>\n",
       "      <td>865</td>\n",
       "      <td>8.564356</td>\n",
       "    </tr>\n",
       "  </tbody>\n",
       "</table>\n",
       "</div>"
      ],
      "text/plain": [
       "                                               title  \\\n",
       "0  parents forced to explain thrill of having sex...   \n",
       "1  posh restaurant has cucumber slices floating i...   \n",
       "2  painted rocksnail knows it really fucked if an...   \n",
       "3      why has the onion gotten so much worse recen    \n",
       "4      boar s head unveils new funfetti birthday ham   \n",
       "\n",
       "                                           post_body              author  \\\n",
       "0  san diego instructing their confused year old ...              kremor   \n",
       "1  posh restaurant has cucumber slices floating i...            el zarco   \n",
       "2  wolf creek al reacting with dismay to news tha...             sanlear   \n",
       "3      why has the onion gotten so much worse recen   additional barber    \n",
       "4  sarasota fl in a statement that confirmed cust...        heavylobster   \n",
       "\n",
       "   num_comments  score  label  local_time_year  local_time_month  \\\n",
       "0             0      1      1             2022                 2   \n",
       "1             0      1      1             2022                 2   \n",
       "2             0      1      1             2022                 2   \n",
       "3             1      1      1             2022                 2   \n",
       "4             0      1      1             2022                 2   \n",
       "\n",
       "   local_time_day  local_time_hour  \\\n",
       "0              20               19   \n",
       "1              19                9   \n",
       "2              19                6   \n",
       "3              18               14   \n",
       "4              17               20   \n",
       "\n",
       "                                      post_body_stop  \\\n",
       "0  san diego instructing confused year old point ...   \n",
       "1  posh restaurant cucumber slices floating jug h...   \n",
       "2  wolf creek al reacting dismay news beloved mar...   \n",
       "3                      onion gotten much worse recen   \n",
       "4  sarasota fl statement confirmed customers turn...   \n",
       "\n",
       "                                     tokenized_sents  \\\n",
       "0  [san, diego, instructing, confused, year, old,...   \n",
       "1  [posh, restaurant, cucumber, slices, floating,...   \n",
       "2  [wolf, creek, al, reacting, dismay, news, belo...   \n",
       "3                [onion, gotten, much, worse, recen]   \n",
       "4  [sarasota, fl, statement, confirmed, customers...   \n",
       "\n",
       "                                             stemmed  word_count  char_count  \\\n",
       "0  [san, diego, instruct, confus, year, old, poin...         112         936   \n",
       "1  [posh, restaur, cucumb, slice, float, jug, han...           8          64   \n",
       "2  [wolf, creek, al, react, dismay, news, belov, ...         129        1041   \n",
       "3                 [onion, gotten, much, wors, recen]           5          40   \n",
       "4  [sarasota, fl, statement, confirm, custom, tur...         101         865   \n",
       "\n",
       "   avg_word_length  \n",
       "0         8.357143  \n",
       "1         8.000000  \n",
       "2         8.069767  \n",
       "3         8.000000  \n",
       "4         8.564356  "
      ]
     },
     "execution_count": 21,
     "metadata": {},
     "output_type": "execute_result"
    }
   ],
   "source": [
    "df.head()"
   ]
  },
  {
   "cell_type": "code",
   "execution_count": 22,
   "id": "29858ab0",
   "metadata": {},
   "outputs": [
    {
     "data": {
      "text/plain": [
       "(30948, 16)"
      ]
     },
     "execution_count": 22,
     "metadata": {},
     "output_type": "execute_result"
    }
   ],
   "source": [
    "df.shape"
   ]
  },
  {
   "cell_type": "code",
   "execution_count": 24,
   "id": "ee706b76",
   "metadata": {},
   "outputs": [
    {
     "data": {
      "text/plain": [
       "['san',\n",
       " 'diego',\n",
       " 'instructing',\n",
       " 'confused',\n",
       " 'year',\n",
       " 'old',\n",
       " 'point',\n",
       " 'stare',\n",
       " 'primate',\n",
       " 'san',\n",
       " 'diego',\n",
       " 'zoo',\n",
       " 'local',\n",
       " 'parent',\n",
       " 'jen',\n",
       " 'mark',\n",
       " 'haskell',\n",
       " 'reportedly',\n",
       " 'forced',\n",
       " 'explain',\n",
       " 'thrill',\n",
       " 'sex',\n",
       " 'public',\n",
       " 'daughter',\n",
       " 'wednesday',\n",
       " 'pair',\n",
       " 'monkey',\n",
       " 'started',\n",
       " 'mating',\n",
       " 'front',\n",
       " 'honey',\n",
       " 'right',\n",
       " 'mommy',\n",
       " 'monkey',\n",
       " 'daddy',\n",
       " 'monkey',\n",
       " 'making',\n",
       " 'baby',\n",
       " 'really',\n",
       " 'really',\n",
       " 'like',\n",
       " 'watching',\n",
       " 'said',\n",
       " 'mother',\n",
       " 'jen',\n",
       " 'haskell',\n",
       " 'adding',\n",
       " 'male',\n",
       " 'monkey',\n",
       " 'proceeded',\n",
       " 'scream',\n",
       " 'growl',\n",
       " 'mount',\n",
       " 'female',\n",
       " 'companion',\n",
       " 'clearly',\n",
       " 'exhibitionist',\n",
       " 'got',\n",
       " 'spectacle',\n",
       " 'know',\n",
       " 'might',\n",
       " 'make',\n",
       " 'sense',\n",
       " 'deep',\n",
       " 'monkey',\n",
       " 'want',\n",
       " 'laugh',\n",
       " 'scream',\n",
       " 'take',\n",
       " 'picture',\n",
       " 'play',\n",
       " 'complex',\n",
       " 'psychosexual',\n",
       " 'game',\n",
       " 'sometimes',\n",
       " 'vanilla',\n",
       " 'stuff',\n",
       " 'enough',\n",
       " 'mommy',\n",
       " 'daddy',\n",
       " 'monkey',\n",
       " 'anymore',\n",
       " 'front',\n",
       " 'crowd',\n",
       " 'couple',\n",
       " 'dozen',\n",
       " 'unsuspecting',\n",
       " 'family',\n",
       " 'public',\n",
       " 'area',\n",
       " 'thing',\n",
       " 'get',\n",
       " 'feel',\n",
       " 'true',\n",
       " 'sexual',\n",
       " 'pleasure',\n",
       " 'anymore',\n",
       " 'haskell',\n",
       " 'also',\n",
       " 'explained',\n",
       " 'daughter',\n",
       " 'totally',\n",
       " 'acceptable',\n",
       " 'explore',\n",
       " 'scat',\n",
       " 'play',\n",
       " 'partner',\n",
       " 'monkey',\n",
       " 'simply',\n",
       " 'throwing',\n",
       " 'feces',\n",
       " 'stressed']"
      ]
     },
     "execution_count": 24,
     "metadata": {},
     "output_type": "execute_result"
    }
   ],
   "source": [
    "#Lemmatization\n",
    "from nltk.stem import WordNetLemmatizer\n",
    "\n",
    "wordnet_lemmatizer = WordNetLemmatizer()\n",
    "df['lemmatized'] = df['tokenized_sents'].apply(lambda x: [wordnet_lemmatizer.lemmatize(y) for y in x])\n",
    "df.to_csv('nlp_processed_nto_to.csv', index = False)\n",
    "\n",
    "df['lemmatized'][0]"
   ]
  },
  {
   "cell_type": "code",
   "execution_count": 25,
   "id": "fdfb82be",
   "metadata": {},
   "outputs": [],
   "source": [
    "#Create Tf-idf model\n",
    "\n",
    "from sklearn.feature_extraction.text import TfidfVectorizer\n",
    "\n",
    "#create a dummy function to return text as the text is already tokenized.\n",
    "def dummy(doc):\n",
    "    return doc\n",
    "\n",
    "#Setting min_df and max_df removes unnecessary words.\n",
    "vectorizer = TfidfVectorizer(\n",
    "    analyzer='word',\n",
    "    tokenizer=dummy,\n",
    "    preprocessor = dummy,\n",
    "    token_pattern = str,\n",
    "    min_df = 0.01,\n",
    "    max_df = 0.8)"
   ]
  },
  {
   "cell_type": "code",
   "execution_count": 26,
   "id": "cbd95735",
   "metadata": {},
   "outputs": [],
   "source": [
    "#For Classification \n",
    "from sklearn.model_selection import train_test_split, cross_val_score\n",
    "from sklearn.ensemble import RandomForestClassifier\n",
    "from sklearn.naive_bayes import MultinomialNB\n",
    "from sklearn.linear_model import LogisticRegression\n",
    "\n",
    "#Train and test\n",
    "X=df['lemmatized']\n",
    "y=df['label']\n",
    "\n",
    "X_train, X_test, y_train, y_test = train_test_split(X, y, stratify=y, random_state=42)"
   ]
  },
  {
   "cell_type": "code",
   "execution_count": 27,
   "id": "17959746",
   "metadata": {},
   "outputs": [],
   "source": [
    "X_train_vectorized = vectorizer.fit_transform(X_train)\n",
    "X_train_vectorized = pd.DataFrame(X_train_vectorized.toarray(), columns = vectorizer.get_feature_names())\n",
    "\n",
    "X_test_vectorized = vectorizer.transform(X_test)"
   ]
  },
  {
   "cell_type": "code",
   "execution_count": 28,
   "id": "d1a8ca6a",
   "metadata": {},
   "outputs": [
    {
     "name": "stdout",
     "output_type": "stream",
     "text": [
      "   ability      able  absolute  absolutely  abuse  academic  accept  accepted  \\\n",
      "0      0.0  0.000000       0.0    0.000000    0.0       0.0     0.0  0.115322   \n",
      "1      0.0  0.000000       0.0    0.000000    0.0       0.0     0.0  0.000000   \n",
      "2      0.0  0.000000       0.0    0.000000    0.0       0.0     0.0  0.000000   \n",
      "3      0.0  0.009330       0.0    0.000000    0.0       0.0     0.0  0.000000   \n",
      "4      0.0  0.022254       0.0    0.028388    0.0       0.0     0.0  0.000000   \n",
      "\n",
      "    access  accident  ...  yes  yesterday       yet  york  young  younger  \\\n",
      "0  0.00000       0.0  ...  0.0        0.0  0.000000   0.0    0.0      0.0   \n",
      "1  0.00000       0.0  ...  0.0        0.0  0.000000   0.0    0.0      0.0   \n",
      "2  0.00000       0.0  ...  0.0        0.0  0.000000   0.0    0.0      0.0   \n",
      "3  0.00562       0.0  ...  0.0        0.0  0.004833   0.0    0.0      0.0   \n",
      "4  0.00000       0.0  ...  0.0        0.0  0.000000   0.0    0.0      0.0   \n",
      "\n",
      "   youth  youtube  zero  zone  \n",
      "0    0.0      0.0   0.0   0.0  \n",
      "1    0.0      0.0   0.0   0.0  \n",
      "2    0.0      0.0   0.0   0.0  \n",
      "3    0.0      0.0   0.0   0.0  \n",
      "4    0.0      0.0   0.0   0.0  \n",
      "\n",
      "[5 rows x 2646 columns]\n"
     ]
    }
   ],
   "source": [
    "print(X_train_vectorized.head())"
   ]
  },
  {
   "cell_type": "code",
   "execution_count": 29,
   "id": "e1a7066c",
   "metadata": {},
   "outputs": [
    {
     "name": "stdout",
     "output_type": "stream",
     "text": [
      "CV Score: [0.94830928 0.95131409 0.93946575 0.94506678 0.94205084]\n",
      "Training Accuracy: 0.9975873508250398\n",
      "testing Accuracy: 0.9446814010598423\n"
     ]
    }
   ],
   "source": [
    "#Random forest model\n",
    "rf = RandomForestClassifier()\n",
    "\n",
    "#Fit model\n",
    "rf.fit(X_train_vectorized, y_train)\n",
    "\n",
    "#Get Scores\n",
    "print('CV Score:', cross_val_score(rf, X_train_vectorized, y_train))\n",
    "print('Training Accuracy:', rf.score(X_train_vectorized, y_train))\n",
    "print('testing Accuracy:', rf.score(X_test_vectorized, y_test))"
   ]
  },
  {
   "cell_type": "code",
   "execution_count": 30,
   "id": "2501e175",
   "metadata": {},
   "outputs": [
    {
     "name": "stdout",
     "output_type": "stream",
     "text": [
      "CV Score: [0.87249623 0.86600603 0.8789315  0.86665231 0.86772943]\n",
      "Training Accuracy: 0.8772564732239024\n",
      "testing Accuracy: 0.8702339408039291\n"
     ]
    }
   ],
   "source": [
    "#naive bayes model\n",
    "nb = MultinomialNB()\n",
    "\n",
    "#Fit model\n",
    "nb.fit(X_train_vectorized, y_train)\n",
    "\n",
    "#Get Scores\n",
    "print('CV Score:', cross_val_score(nb, X_train_vectorized, y_train))\n",
    "print('Training Accuracy:', nb.score(X_train_vectorized, y_train))\n",
    "print('testing Accuracy:', nb.score(X_test_vectorized, y_test))\n"
   ]
  },
  {
   "cell_type": "code",
   "execution_count": 31,
   "id": "1383fa0d",
   "metadata": {},
   "outputs": [
    {
     "name": "stdout",
     "output_type": "stream",
     "text": [
      "CV Score: [0.94077105 0.94312796 0.93278759 0.94226626 0.93580353]\n",
      "Training Accuracy: 0.9557537374520702\n",
      "testing Accuracy: 0.9431304123045108\n"
     ]
    }
   ],
   "source": [
    "#Logistic regression Model\n",
    "lr = LogisticRegression(solver='liblinear')\n",
    "\n",
    "#Fit model\n",
    "lr.fit(X_train_vectorized, y_train)\n",
    "\n",
    "#Get Scores\n",
    "print('CV Score:', cross_val_score(lr, X_train_vectorized, y_train))\n",
    "print('Training Accuracy:', lr.score(X_train_vectorized, y_train))\n",
    "print('testing Accuracy:', lr.score(X_test_vectorized, y_test))\n"
   ]
  },
  {
   "cell_type": "code",
   "execution_count": 32,
   "id": "389b1507",
   "metadata": {},
   "outputs": [
    {
     "data": {
      "image/png": "[encoded data removed]",
      "text/plain": [
       "<Figure size 432x288 with 1 Axes>"
      ]
     },
     "metadata": {
      "needs_background": "light"
     },
     "output_type": "display_data"
    }
   ],
   "source": [
    "#Creating Wordcloud\n",
    "from wordcloud import WordCloud\n",
    "from PIL import Image\n",
    "\n",
    "def generateWC(text,cc):\n",
    "    def monochromatic_style(color_choice=cc, Word=None, font_size=None, position=None, \n",
    "                       orientation=None, font_path=None, random_state=None):\n",
    "        if(cc=='red'):\n",
    "            h = 343 \n",
    "        elif(cc=='green'):\n",
    "            h=110 \n",
    "        s = 70 \n",
    "        l = int(100.0 * float(random_state.randint(60,120))/255.0) \n",
    "        return \"hsl({}, {}%, {}%)\".format(h,s,l)\n",
    "\n",
    "    mask = np.array(Image.open('reddit.png'))\n",
    "\n",
    "    wc = WordCloud(max_words = 2000,\n",
    "                  random_state = 42,\n",
    "                  mask = mask,\n",
    "                  background_color=\"white\",\n",
    "                  width = mask.shape[1],\n",
    "                  height = mask.shape[0],\n",
    "                  color_func = monochromatic_style,)\n",
    "    wc.generate(text)\n",
    "    plt.imshow(wc, interpolation=\"bilinear\")\n",
    "    plt.axis('off')\n",
    "    plt.show()\n",
    "\n",
    "#Create TheOnion text for wordcloud \n",
    "full_body = \" \".join(body for body in df.loc[df['label']==1, 'post_body_stop'])\n",
    "generateWC(full_body,'red')"
   ]
  },
  {
   "cell_type": "code",
   "execution_count": 33,
   "id": "a22cbf1f",
   "metadata": {},
   "outputs": [
    {
     "data": {
      "image/png": "[encoded data removed]",
      "text/plain": [
       "<Figure size 432x288 with 1 Axes>"
      ]
     },
     "metadata": {
      "needs_background": "light"
     },
     "output_type": "display_data"
    }
   ],
   "source": [
    "#Create NotTheOnion text for wordcloud \n",
    "full_body = \" \".join(body for body in df.loc[df['label']==0, 'post_body_stop'])\n",
    "generateWC(full_body, 'green')"
   ]
  },
  {
   "cell_type": "code",
   "execution_count": null,
   "id": "9960b47f",
   "metadata": {},
   "outputs": [],
   "source": []
  }
 ],
 "metadata": {
  "kernelspec": {
   "display_name": "Python 3 (ipykernel)",
   "language": "python",
   "name": "python3"
  },
  "language_info": {
   "codemirror_mode": {
    "name": "ipython",
    "version": 3
   },
   "file_extension": ".py",
   "mimetype": "text/x-python",
   "name": "python",
   "nbconvert_exporter": "python",
   "pygments_lexer": "ipython3",
   "version": "3.9.0"
  },
  "latex_envs": {
   "LaTeX_envs_menu_present": true,
   "autoclose": false,
   "autocomplete": true,
   "bibliofile": "biblio.bib",
   "cite_by": "apalike",
   "current_citInitial": 1,
   "eqLabelWithNumbers": true,
   "eqNumInitial": 1,
   "hotkeys": {
    "equation": "Ctrl-E",
    "itemize": "Ctrl-I"
   },
   "labels_anchors": false,
   "latex_user_defs": false,
   "report_style_numbering": false,
   "user_envs_cfg": false
  },
  "varInspector": {
   "cols": {
    "lenName": 16,
    "lenType": 16,
    "lenVar": 40
   },
   "kernels_config": {
    "python": {
     "delete_cmd_postfix": "",
     "delete_cmd_prefix": "del ",
     "library": "var_list.py",
     "varRefreshCmd": "print(var_dic_list())"
    },
    "r": {
     "delete_cmd_postfix": ") ",
     "delete_cmd_prefix": "rm(",
     "library": "var_list.r",
     "varRefreshCmd": "cat(var_dic_list()) "
    }
   },
   "types_to_exclude": [
    "module",
    "function",
    "builtin_function_or_method",
    "instance",
    "_Feature"
   ],
   "window_display": false
  }
 },
 "nbformat": 4,
 "nbformat_minor": 5
}
